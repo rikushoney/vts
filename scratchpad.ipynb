{
 "cells": [
  {
   "cell_type": "code",
   "execution_count": 1,
   "id": "77dd5b72-3637-405f-8214-fc6d266e41f5",
   "metadata": {},
   "outputs": [],
   "source": [
    "from vts import arch"
   ]
  },
  {
   "cell_type": "code",
   "execution_count": 2,
   "id": "1e49dbee-9ec6-4602-8812-744c013c15d6",
   "metadata": {
    "editable": true,
    "slideshow": {
     "slide_type": ""
    },
    "tags": []
   },
   "outputs": [],
   "source": [
    "m = arch.Module(\"test_mod\")"
   ]
  },
  {
   "cell_type": "code",
   "execution_count": 3,
   "id": "a1b5a730-2225-424a-8fcd-6a00780c450c",
   "metadata": {},
   "outputs": [],
   "source": [
    "c1 = m.add_component(\"test_comp_1\")\n",
    "p1 = c1.add_port(\"test_port_1\", kind=\"i\")"
   ]
  },
  {
   "cell_type": "code",
   "execution_count": 4,
   "id": "1015744a-f9f8-4ed9-9677-9a0d36417144",
   "metadata": {},
   "outputs": [],
   "source": [
    "c2 = m.add_component(\"test_comp_2\")\n",
    "p2 = c2.add_port(\"test_port_2\", kind=\"i\")\n",
    "c1_c2 = c1.add_reference(c2)"
   ]
  },
  {
   "cell_type": "code",
   "execution_count": 5,
   "id": "4f7757b7-6d2c-41b6-b944-0e61bb805f02",
   "metadata": {},
   "outputs": [],
   "source": [
    "c1.test_port_1 = c1_c2.test_port_2[:]"
   ]
  },
  {
   "cell_type": "code",
   "execution_count": 6,
   "id": "7839db59-232a-4aa1-8741-4735577c9e8c",
   "metadata": {},
   "outputs": [],
   "source": [
    "c3 = m.add_component(\"test_comp_3\")\n",
    "p3 = c3.add_port(\"test_port_3\", kind=\"i\", n_pins=2)\n",
    "c1_c3 = c1.add_reference(c3)"
   ]
  },
  {
   "cell_type": "code",
   "execution_count": 7,
   "id": "7f512b3a-8fed-4865-afee-a9ef31be126d",
   "metadata": {},
   "outputs": [],
   "source": [
    "c1_c2.test_port_2 = c1_c3.test_port_3[0]"
   ]
  },
  {
   "cell_type": "code",
   "execution_count": 8,
   "id": "1deaa3e2-3e89-4b9f-8939-443d00e8f795",
   "metadata": {},
   "outputs": [],
   "source": [
    "c4 = m.add_component(\"test_comp_4\")\n",
    "p4 = c4.add_port(\"test_port_4\", kind=\"o\")\n",
    "c1_c4 = c1.add_reference(c4, alias=\"c4\")"
   ]
  },
  {
   "cell_type": "code",
   "execution_count": 9,
   "id": "abbe7b0a-ed82-46d6-8e0c-f1b43f36377b",
   "metadata": {},
   "outputs": [],
   "source": [
    "c1_c3.test_port_3[1] = c1_c4.test_port_4"
   ]
  },
  {
   "cell_type": "code",
   "execution_count": 10,
   "id": "ecaac011-c7b7-4191-bc91-d7cd7a385199",
   "metadata": {},
   "outputs": [],
   "source": [
    "from math import floor, log10\n",
    "\n",
    "def print_with_linum(s: str) -> None:\n",
    "    n_lines = s.count(\"\\n\") + 1\n",
    "    margin = floor(log10(n_lines)) + 1\n",
    "\n",
    "    for i, line in enumerate(s.splitlines()):\n",
    "        linum = i + 1\n",
    "        print(f\"{linum: >{margin}}. {line}\")"
   ]
  },
  {
   "cell_type": "code",
   "execution_count": 11,
   "id": "eb856b90-f753-429e-bfd3-b425f9c625c1",
   "metadata": {},
   "outputs": [
    {
     "name": "stdout",
     "output_type": "stream",
     "text": [
      "Json:\n",
      " 1. {\n",
      " 2.   \"name\": \"test_mod\",\n",
      " 3.   \"components\": {\n",
      " 4.     \"test_comp_1\": {\n",
      " 5.       \"ports\": {\n",
      " 6.         \"test_port_1\": {\n",
      " 7.           \"kind\": \"INPUT\"\n",
      " 8.         }\n",
      " 9.       },\n",
      "10.       \"references\": [\n",
      "11.         {\n",
      "12.           \"component\": \"test_comp_2\"\n",
      "13.         },\n",
      "14.         {\n",
      "15.           \"component\": \"test_comp_3\"\n",
      "16.         }\n",
      "17.       ],\n",
      "18.       \"named_references\": {\n",
      "19.         \"c4\": {\n",
      "20.           \"component\": \"test_comp_4\"\n",
      "21.         }\n",
      "22.       },\n",
      "23.       \"connections\": [\n",
      "24.         {\n",
      "25.           \"kind\": \"DIRECT\",\n",
      "26.           \"source\": {\n",
      "27.             \"port\": \"test_port_1\"\n",
      "28.           },\n",
      "29.           \"sink\": {\n",
      "30.             \"port\": \"test_port_2\",\n",
      "31.             \"reference\": \"test_comp_2\"\n",
      "32.           }\n",
      "33.         },\n",
      "34.         {\n",
      "35.           \"kind\": \"DIRECT\",\n",
      "36.           \"source\": {\n",
      "37.             \"port\": \"test_port_2\",\n",
      "38.             \"reference\": \"test_comp_2\"\n",
      "39.           },\n",
      "40.           \"sink\": {\n",
      "41.             \"port\": \"test_port_3\",\n",
      "42.             \"port_start\": 1,\n",
      "43.             \"reference\": \"test_comp_3\"\n",
      "44.           }\n",
      "45.         },\n",
      "46.         {\n",
      "47.           \"kind\": \"DIRECT\",\n",
      "48.           \"source\": {\n",
      "49.             \"port\": \"test_port_3\",\n",
      "50.             \"port_start\": 1,\n",
      "51.             \"reference\": \"test_comp_3\"\n",
      "52.           },\n",
      "53.           \"sink\": {\n",
      "54.             \"port\": \"test_port_4\",\n",
      "55.             \"reference\": \"c4\"\n",
      "56.           }\n",
      "57.         }\n",
      "58.       ]\n",
      "59.     },\n",
      "60.     \"test_comp_2\": {\n",
      "61.       \"ports\": {\n",
      "62.         \"test_port_2\": {\n",
      "63.           \"kind\": \"INPUT\"\n",
      "64.         }\n",
      "65.       }\n",
      "66.     },\n",
      "67.     \"test_comp_3\": {\n",
      "68.       \"ports\": {\n",
      "69.         \"test_port_3\": {\n",
      "70.           \"kind\": \"INPUT\",\n",
      "71.           \"n_pins\": 2\n",
      "72.         }\n",
      "73.       }\n",
      "74.     },\n",
      "75.     \"test_comp_4\": {\n",
      "76.       \"ports\": {\n",
      "77.         \"test_port_4\": {\n",
      "78.           \"kind\": \"OUTPUT\"\n",
      "79.         }\n",
      "80.       }\n",
      "81.     }\n",
      "82.   }\n",
      "83. }\n"
     ]
    }
   ],
   "source": [
    "dump1 = arch.json_dumps(m, True)\n",
    "\n",
    "\n",
    "print(\"Json:\")\n",
    "print_with_linum(dump1)"
   ]
  },
  {
   "cell_type": "code",
   "execution_count": 12,
   "id": "b418e832-d12e-408f-a4fc-ad36159d92e9",
   "metadata": {},
   "outputs": [
    {
     "name": "stdout",
     "output_type": "stream",
     "text": [
      "Yaml:\n",
      " 1. name: test_mod\n",
      " 2. components:\n",
      " 3.   test_comp_1:\n",
      " 4.     ports:\n",
      " 5.       test_port_1:\n",
      " 6.         kind: INPUT\n",
      " 7.     references:\n",
      " 8.     - component: test_comp_2\n",
      " 9.     - component: test_comp_3\n",
      "10.     named_references:\n",
      "11.       c4:\n",
      "12.         component: test_comp_4\n",
      "13.     connections:\n",
      "14.     - kind: DIRECT\n",
      "15.       source:\n",
      "16.         port: test_port_1\n",
      "17.       sink:\n",
      "18.         port: test_port_2\n",
      "19.         reference: test_comp_2\n",
      "20.     - kind: DIRECT\n",
      "21.       source:\n",
      "22.         port: test_port_2\n",
      "23.         reference: test_comp_2\n",
      "24.       sink:\n",
      "25.         port: test_port_3\n",
      "26.         port_start: 1\n",
      "27.         reference: test_comp_3\n",
      "28.     - kind: DIRECT\n",
      "29.       source:\n",
      "30.         port: test_port_3\n",
      "31.         port_start: 1\n",
      "32.         reference: test_comp_3\n",
      "33.       sink:\n",
      "34.         port: test_port_4\n",
      "35.         reference: c4\n",
      "36.   test_comp_2:\n",
      "37.     ports:\n",
      "38.       test_port_2:\n",
      "39.         kind: INPUT\n",
      "40.   test_comp_3:\n",
      "41.     ports:\n",
      "42.       test_port_3:\n",
      "43.         kind: INPUT\n",
      "44.         n_pins: 2\n",
      "45.   test_comp_4:\n",
      "46.     ports:\n",
      "47.       test_port_4:\n",
      "48.         kind: OUTPUT\n"
     ]
    }
   ],
   "source": [
    "dump2 = arch.yaml_dumps(arch.json_loads(dump1))\n",
    "\n",
    "print(\"Yaml:\")\n",
    "print_with_linum(dump2)"
   ]
  },
  {
   "cell_type": "code",
   "execution_count": 13,
   "id": "8190e42b-5199-49bc-aa5c-9af7de4f5de7",
   "metadata": {},
   "outputs": [
    {
     "name": "stdout",
     "output_type": "stream",
     "text": [
      "Toml:\n",
      " 1. name = \"test_mod\"\n",
      " 2. \n",
      " 3. [components.test_comp_1.ports.test_port_1]\n",
      " 4. kind = \"INPUT\"\n",
      " 5. \n",
      " 6. [[components.test_comp_1.references]]\n",
      " 7. component = \"test_comp_2\"\n",
      " 8. \n",
      " 9. [[components.test_comp_1.references]]\n",
      "10. component = \"test_comp_3\"\n",
      "11. \n",
      "12. [components.test_comp_1.named_references.c4]\n",
      "13. component = \"test_comp_4\"\n",
      "14. \n",
      "15. [[components.test_comp_1.connections]]\n",
      "16. kind = \"DIRECT\"\n",
      "17. \n",
      "18. [components.test_comp_1.connections.source]\n",
      "19. port = \"test_port_1\"\n",
      "20. \n",
      "21. [components.test_comp_1.connections.sink]\n",
      "22. port = \"test_port_2\"\n",
      "23. reference = \"test_comp_2\"\n",
      "24. \n",
      "25. [[components.test_comp_1.connections]]\n",
      "26. kind = \"DIRECT\"\n",
      "27. \n",
      "28. [components.test_comp_1.connections.source]\n",
      "29. port = \"test_port_2\"\n",
      "30. reference = \"test_comp_2\"\n",
      "31. \n",
      "32. [components.test_comp_1.connections.sink]\n",
      "33. port = \"test_port_3\"\n",
      "34. port_start = 1\n",
      "35. reference = \"test_comp_3\"\n",
      "36. \n",
      "37. [[components.test_comp_1.connections]]\n",
      "38. kind = \"DIRECT\"\n",
      "39. \n",
      "40. [components.test_comp_1.connections.source]\n",
      "41. port = \"test_port_3\"\n",
      "42. port_start = 1\n",
      "43. reference = \"test_comp_3\"\n",
      "44. \n",
      "45. [components.test_comp_1.connections.sink]\n",
      "46. port = \"test_port_4\"\n",
      "47. reference = \"c4\"\n",
      "48. \n",
      "49. [components.test_comp_2.ports.test_port_2]\n",
      "50. kind = \"INPUT\"\n",
      "51. \n",
      "52. [components.test_comp_3.ports.test_port_3]\n",
      "53. kind = \"INPUT\"\n",
      "54. n_pins = 2\n",
      "55. \n",
      "56. [components.test_comp_4.ports.test_port_4]\n",
      "57. kind = \"OUTPUT\"\n"
     ]
    }
   ],
   "source": [
    "dump3 = arch.toml_dumps(arch.yaml_loads(dump2), pretty=True)\n",
    "\n",
    "print(\"Toml:\")\n",
    "print_with_linum(dump3)"
   ]
  },
  {
   "cell_type": "code",
   "execution_count": null,
   "id": "ee027baa-3390-4d17-b5db-ed9863d23766",
   "metadata": {},
   "outputs": [],
   "source": []
  }
 ],
 "metadata": {
  "kernelspec": {
   "display_name": "Python 3 (ipykernel)",
   "language": "python",
   "name": "python3"
  },
  "language_info": {
   "codemirror_mode": {
    "name": "ipython",
    "version": 3
   },
   "file_extension": ".py",
   "mimetype": "text/x-python",
   "name": "python",
   "nbconvert_exporter": "python",
   "pygments_lexer": "ipython3",
   "version": "3.11.8"
  }
 },
 "nbformat": 4,
 "nbformat_minor": 5
}
